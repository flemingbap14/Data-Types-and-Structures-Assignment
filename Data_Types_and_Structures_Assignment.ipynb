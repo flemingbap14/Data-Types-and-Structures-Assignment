{
  "nbformat": 4,
  "nbformat_minor": 0,
  "metadata": {
    "colab": {
      "provenance": []
    },
    "kernelspec": {
      "name": "python3",
      "display_name": "Python 3"
    },
    "language_info": {
      "name": "python"
    }
  },
  "cells": [
    {
      "cell_type": "markdown",
      "source": [
        "#Data Types and Structures Questions\n"
      ],
      "metadata": {
        "id": "AcjG4R_YIO4f"
      }
    },
    {
      "cell_type": "markdown",
      "source": [
        "Q1 What are data structures, and why are they important?\n",
        "\n",
        "Ans- Data structures are ways to organize, store, and process data in a computer system, they are important for efficient data management and faster programs.\n"
      ],
      "metadata": {
        "id": "VWpCFap5IefB"
      }
    },
    {
      "cell_type": "markdown",
      "source": [
        "Q2 Explain the difference between mutable and immutable data types with examples?\n",
        "\n",
        "Ans- Mutable data types can be changed or edited once created, Immutable data types can not be changed or edited once created. For Mutable ex are List, Set and dictionaries.\n",
        "For Immutable ex are Tuple and String."
      ],
      "metadata": {
        "id": "aW0RnOFWJoP6"
      }
    },
    {
      "cell_type": "markdown",
      "source": [
        "Q3 What are the main differences between lists and tuples in Python?\n",
        "\n",
        "Ans- Lists are mutable date type in python and can be changed once created, Tuples are immutable data type in python which can not be changed once created.\n"
      ],
      "metadata": {
        "id": "gqkM-u0ALuCN"
      }
    },
    {
      "cell_type": "markdown",
      "source": [
        "Q4 Describe how dictionaries store data?\n",
        "\n",
        "Ans- Dictionaries are used to store data values in key:value pairs. A dictionary is a ordered collection."
      ],
      "metadata": {
        "id": "NHyg1z8mMicI"
      }
    },
    {
      "cell_type": "markdown",
      "source": [
        "Q5 Why might you use a set instead of a list in Python?\n",
        "\n",
        "Ans- Because sets cannot have multiple occurrences of the same element, it makes sets highly useful to efficiently remove duplicate values from a list or tuple and to perform common math operations like unions and intersections.:"
      ],
      "metadata": {
        "id": "nexwDOKBNc0a"
      }
    },
    {
      "cell_type": "markdown",
      "source": [
        "Q6 What is a string in Python, and how is it different from a list?\n",
        "\n",
        "Ans- A string is a sequence of characters between single or double quotes. A list is a sequence of items, where each item could be anything (an integer, a float, a string, etc)."
      ],
      "metadata": {
        "id": "hY7Dw4-aN-yu"
      }
    },
    {
      "cell_type": "markdown",
      "source": [
        "Q7 How do tuples ensure data integrity in Python?\n",
        "\n",
        "Ans- Tuples are immutable to ensure that their contents remain constant throughout their lifecycle, guaranteeing data integrity and reliability. This immutability allows tuples to be used as keys in dictionaries and elements in sets, as they can be hashed.\n"
      ],
      "metadata": {
        "id": "gmBd0RUraiAZ"
      }
    },
    {
      "cell_type": "markdown",
      "source": [
        "Q8 What is a hash table, and how does it relate to dictionaries in Python?\n",
        "\n",
        "Ans- A hash table is a data structure that stores key-value pairs, and Python's dictionaries are the standard implementation of hash tables.\n"
      ],
      "metadata": {
        "id": "feyxRvnYa0gG"
      }
    },
    {
      "cell_type": "markdown",
      "source": [
        "Q9 Can lists contain different data types in Python?\n",
        "\n",
        "Ans- Yes, can catain different data types in python, a list can also contain a mix of Python types including strings, floats, and booleans."
      ],
      "metadata": {
        "id": "-95iE3v_bNM_"
      }
    },
    {
      "cell_type": "markdown",
      "source": [
        "Q10 Explain why strings are immutable in Python?\n",
        "\n",
        "Ans- Strings in Python are immutable because once a string object is created, its contents cannot be modified."
      ],
      "metadata": {
        "id": "4oOVP_eabgdB"
      }
    },
    {
      "cell_type": "markdown",
      "source": [
        "Q11 What advantages do dictionaries offer over lists for certain tasks?\n",
        "\n",
        "Ans- dictionaries are particularly advantageous when you need fast access to data by a unique key, need to associate data together, ensure key uniqueness, or handle more complex data structures. Lists, on the other hand, are more suited for maintaining ordered collections and performing sequential operations. Thus, dictionaries are a better choice when efficiency, quick lookups, and clear associations between elements are required.\n",
        "\n"
      ],
      "metadata": {
        "id": "Ps9bHwPNcK4B"
      }
    },
    {
      "cell_type": "markdown",
      "source": [
        "Q12 Describe a scenario where using a tuple would be preferable over a list?\n",
        "\n",
        "Ans- A tuple would be preferable over a list in scenarios where you need to store a collection of items that should not be modified after creation. This immutability offers several benefits, particularly in cases where the integrity of data must be preserved.For Ex Employee data.\n"
      ],
      "metadata": {
        "id": "04yrTnu8dbQZ"
      }
    },
    {
      "cell_type": "markdown",
      "source": [
        "Q13 How do sets handle duplicate values in Python?\n",
        "\n",
        "Ans- In Python, sets automatically remove duplicate values. A set is a collection of unique elements, meaning it cannot contain duplicate items. When you try to add a duplicate value to a set, it simply ignores the addition and maintains only one instance of that value."
      ],
      "metadata": {
        "id": "pUP6_pOtd3Eh"
      }
    },
    {
      "cell_type": "markdown",
      "source": [
        "Q14  How does the “in” keyword work differently for lists and dictionaries?\n",
        "\n",
        "Ans- The in keyword works differently for lists and dictionaries in Python because it checks for membership in distinct ways, based on the structure of the data type."
      ],
      "metadata": {
        "id": "yBIKYd4jeSud"
      }
    },
    {
      "cell_type": "markdown",
      "source": [
        "Q15 Can you modify the elements of a tuple? Explain why or why not?\n",
        "\n",
        "Ans- No, you cannot modify the elements of a tuple after it has been created. This is because tuples are immutable in Python, meaning that once a tuple is created, its content cannot be changed."
      ],
      "metadata": {
        "id": "m579uYYdekFP"
      }
    },
    {
      "cell_type": "markdown",
      "source": [
        "Q16 What is a nested dictionary, and give an example of its use case?\n",
        "\n",
        "Ans- A nested dictionary in Python is a dictionary where the values of some of its keys are themselves dictionaries. This allows you to represent more complex, hierarchical data structures, where each key-value pair can contain another dictionary as its value, and so on. For ex Storing Information about Students."
      ],
      "metadata": {
        "id": "6PlK5IDIe1Pq"
      }
    },
    {
      "cell_type": "markdown",
      "source": [
        "Q17 Describe the time complexity of accessing elements in a dictionary?\n",
        "\n",
        "Ans- The time complexity of accessing elements in a Python dictionary is O(1) on average, meaning that accessing an element by its key is a constant-time operation. This efficiency comes from the underlying hash table implementation that dictionaries use."
      ],
      "metadata": {
        "id": "1tgPQu7LfdTv"
      }
    },
    {
      "cell_type": "markdown",
      "source": [
        "Q18  In what situations are lists preferred over dictionaries?\n",
        "\n",
        "Ans- Lists are preferred over dictionaries in the following scenarios:\n",
        "\n",
        "1.When you need an ordered collection of items.\n",
        "\n",
        "2.When you need index-based access to elements.\n",
        "\n",
        "3.When you need to store duplicate values.\n",
        "\n",
        "4.When your data is simple and unkeyed.\n",
        "\n",
        "5.When you need to perform sequential operations on elements.\n",
        "\n",
        "6.When you need to efficiently append or pop items.\n",
        "\n",
        "7.When your data is homogeneous.\n",
        "\n",
        "In contrast, dictionaries are better when you need to associate unique keys with values and efficiently perform operations like lookups based on keys."
      ],
      "metadata": {
        "id": "HfSbcL3HfvUZ"
      }
    },
    {
      "cell_type": "markdown",
      "source": [
        "Q19 Why are dictionaries considered unordered, and how does that affect data retrieval?\n",
        "\n",
        "Ans- Dictionaries in Python are often described as unordered collections because, prior to Python 3.7, the order of items within a dictionary was not guaranteed. This means that when you iterate over a dictionary, you couldn’t rely on the order in which the key-value pairs were stored. However, starting from Python 3.7, dictionaries maintain insertion order (i.e., the order in which items were added), although this property is still considered an implementation detail rather than a fundamental characteristic of dictionaries."
      ],
      "metadata": {
        "id": "RppiKzRcg97K"
      }
    },
    {
      "cell_type": "markdown",
      "source": [
        "Q20  Explain the difference between a list and a dictionary in terms of data retrieval?\n",
        "\n",
        "Ans- The main difference between a list and a dictionary in terms of data retrieval lies in how data is accessed and the underlying structure used for storing elements.\n",
        "\n",
        "List:\n",
        "Use when you need an ordered collection and want to retrieve data based on position (index).\n",
        "\n",
        "Accessing elements by index is fast (O(1)), but searching for a value (if you don’t know its index) is slower (O(n)).\n",
        "\n",
        "Dictionary:\n",
        "Use when you need to store key-value pairs and retrieve data based on a unique key.\n",
        "\n",
        "Data retrieval is very fast (O(1) on average) because of the hash table mechanism, but dictionaries don’t maintain order (prior to Python 3.7) and don’t allow duplicate keys.\n",
        "\n",
        "Lists are better when you need ordered collections or index-based access, while dictionaries excel when you need fast lookups by unique keys."
      ],
      "metadata": {
        "id": "hUf_N2U9hgWA"
      }
    },
    {
      "cell_type": "markdown",
      "source": [
        "#Practical Questions"
      ],
      "metadata": {
        "id": "skK7dhyliSf1"
      }
    },
    {
      "cell_type": "code",
      "execution_count": 31,
      "metadata": {
        "colab": {
          "base_uri": "https://localhost:8080/"
        },
        "id": "9YtGsPMlAUxL",
        "outputId": "8557e415-a6cf-463c-89e9-e39b67da0fe0"
      },
      "outputs": [
        {
          "output_type": "stream",
          "name": "stdout",
          "text": [
            "Fleming\n"
          ]
        }
      ],
      "source": [
        "# Write a code to create a string with your name and print it.\n",
        "name = (\"Fleming\")\n",
        "print(name)\n"
      ]
    },
    {
      "cell_type": "code",
      "source": [
        "#Write a code to find the length of the string \"Hello World\"\n",
        "len(\"Hello World\")\n",
        "print(len(\"Hello World\"))"
      ],
      "metadata": {
        "colab": {
          "base_uri": "https://localhost:8080/"
        },
        "id": "9Q4wdi4eAkMC",
        "outputId": "d3d9f01e-8a98-4277-a799-e4fbd0669746"
      },
      "execution_count": 34,
      "outputs": [
        {
          "output_type": "stream",
          "name": "stdout",
          "text": [
            "11\n"
          ]
        }
      ]
    },
    {
      "cell_type": "code",
      "source": [
        "#Write a code to slice the first 3 characters from the string \"Python Programming\"\n",
        "text = (\"Python Programming\")\n",
        "text[0:3]\n"
      ],
      "metadata": {
        "colab": {
          "base_uri": "https://localhost:8080/",
          "height": 35
        },
        "id": "20g9CvXvA7br",
        "outputId": "48b16740-4f39-489e-9b97-b2798d335e60"
      },
      "execution_count": 35,
      "outputs": [
        {
          "output_type": "execute_result",
          "data": {
            "text/plain": [
              "'Pyt'"
            ],
            "application/vnd.google.colaboratory.intrinsic+json": {
              "type": "string"
            }
          },
          "metadata": {},
          "execution_count": 35
        }
      ]
    },
    {
      "cell_type": "code",
      "source": [
        "# Write a code to convert the string \"hello\" to uppercase.\n",
        "text = (\"hello\")\n",
        "text.upper()"
      ],
      "metadata": {
        "colab": {
          "base_uri": "https://localhost:8080/",
          "height": 35
        },
        "id": "p1JxExbzBN7S",
        "outputId": "0a55fb8d-60b2-40f3-c4d3-fda0151f8522"
      },
      "execution_count": 36,
      "outputs": [
        {
          "output_type": "execute_result",
          "data": {
            "text/plain": [
              "'HELLO'"
            ],
            "application/vnd.google.colaboratory.intrinsic+json": {
              "type": "string"
            }
          },
          "metadata": {},
          "execution_count": 36
        }
      ]
    },
    {
      "cell_type": "code",
      "source": [
        "# Write a code to replace the word \"apple\" with \"orange\" in the string \"I like apple\"\n",
        "a = (\" I like apple\")\n",
        "print(a.replace(\"apple\", \"orange\"))"
      ],
      "metadata": {
        "colab": {
          "base_uri": "https://localhost:8080/"
        },
        "id": "PhCQS2EVBic-",
        "outputId": "dad6f97e-cf1e-474b-9e76-2466e82b1cec"
      },
      "execution_count": 38,
      "outputs": [
        {
          "output_type": "stream",
          "name": "stdout",
          "text": [
            " I like orange\n"
          ]
        }
      ]
    },
    {
      "cell_type": "code",
      "source": [
        "#Write a code to create a list with numbers 1 to 5 and print it.\n",
        "b = [1,2,3,4,5]\n",
        "b"
      ],
      "metadata": {
        "colab": {
          "base_uri": "https://localhost:8080/"
        },
        "id": "NdUtau14C1E1",
        "outputId": "5665b9a3-ae78-4ddb-a8ae-b344f7e96e5e"
      },
      "execution_count": 37,
      "outputs": [
        {
          "output_type": "execute_result",
          "data": {
            "text/plain": [
              "[1, 2, 3, 4, 5]"
            ]
          },
          "metadata": {},
          "execution_count": 37
        }
      ]
    },
    {
      "cell_type": "code",
      "source": [
        "#Write a code to append the number 10 to the list [1, 2, 3, 4].\n",
        "c = [1, 2, 3, 4]\n",
        "c.append(10)\n",
        "print(c)\n"
      ],
      "metadata": {
        "colab": {
          "base_uri": "https://localhost:8080/"
        },
        "id": "EzFJD-dGDUhw",
        "outputId": "68a79c54-aee6-4019-d578-5d6d6cb05092"
      },
      "execution_count": 39,
      "outputs": [
        {
          "output_type": "stream",
          "name": "stdout",
          "text": [
            "[1, 2, 3, 4, 10]\n"
          ]
        }
      ]
    },
    {
      "cell_type": "code",
      "source": [
        "#Write a code to remove the number 3 from the list [1, 2, 3, 4, 5]\n",
        "a = [1, 2, 3, 4, 5]\n",
        "a.remove(3)\n",
        "print(a)\n"
      ],
      "metadata": {
        "colab": {
          "base_uri": "https://localhost:8080/"
        },
        "id": "64jI37fNDuR-",
        "outputId": "e68482f8-e2ce-4d0f-86bc-5bfbfffab01d"
      },
      "execution_count": 40,
      "outputs": [
        {
          "output_type": "stream",
          "name": "stdout",
          "text": [
            "[1, 2, 4, 5]\n"
          ]
        }
      ]
    },
    {
      "cell_type": "code",
      "source": [
        "#E Write a code to access the second element in the list ['a', 'b', 'c', 'd']\n",
        "a = [\"a\", \"b\", \"c\", \"d\"]\n",
        "a[1]"
      ],
      "metadata": {
        "colab": {
          "base_uri": "https://localhost:8080/",
          "height": 35
        },
        "id": "rfuO0H4GD9hU",
        "outputId": "947fa40f-b46b-449c-e739-125ab7e5cb53"
      },
      "execution_count": 41,
      "outputs": [
        {
          "output_type": "execute_result",
          "data": {
            "text/plain": [
              "'b'"
            ],
            "application/vnd.google.colaboratory.intrinsic+json": {
              "type": "string"
            }
          },
          "metadata": {},
          "execution_count": 41
        }
      ]
    },
    {
      "cell_type": "code",
      "source": [
        "#Write a code to reverse the list [10, 20, 30, 40, 50].\n",
        "a = [10, 20, 30, 40, 50]\n",
        "a.reverse()\n",
        "print(a)\n"
      ],
      "metadata": {
        "colab": {
          "base_uri": "https://localhost:8080/"
        },
        "id": "xC8APFxGEOhv",
        "outputId": "f1f095d9-c3b7-418b-e301-193eae67163c"
      },
      "execution_count": 42,
      "outputs": [
        {
          "output_type": "stream",
          "name": "stdout",
          "text": [
            "[50, 40, 30, 20, 10]\n"
          ]
        }
      ]
    },
    {
      "cell_type": "code",
      "source": [
        "#Write a code to create a tuple with the elements 10, 20, 30 and print it.\n",
        "a = (10 ,20 ,30)\n",
        "print(a)"
      ],
      "metadata": {
        "colab": {
          "base_uri": "https://localhost:8080/"
        },
        "id": "fkbKq6fZEpD4",
        "outputId": "9ba96b85-0ad3-465f-d124-ce66e45dc990"
      },
      "execution_count": 43,
      "outputs": [
        {
          "output_type": "stream",
          "name": "stdout",
          "text": [
            "(10, 20, 30)\n"
          ]
        }
      ]
    },
    {
      "cell_type": "code",
      "source": [
        "#Write a code to access the first element of the tuple ('apple', 'banana', 'cherry').\n",
        "a = ('apple', 'banana', 'cherry')\n",
        "a[0]"
      ],
      "metadata": {
        "colab": {
          "base_uri": "https://localhost:8080/",
          "height": 35
        },
        "id": "iTNLpjakE6-V",
        "outputId": "aa7117f6-d1f3-435b-c1e4-61021f5210bf"
      },
      "execution_count": 44,
      "outputs": [
        {
          "output_type": "execute_result",
          "data": {
            "text/plain": [
              "'apple'"
            ],
            "application/vnd.google.colaboratory.intrinsic+json": {
              "type": "string"
            }
          },
          "metadata": {},
          "execution_count": 44
        }
      ]
    },
    {
      "cell_type": "code",
      "source": [
        "#Write a code to count how many times the number 2 appears in the tuple (1, 2, 3, 2, 4, 2).\n",
        "b = (1, 2,  3,  2,  4,  2)\n",
        "b.count(2)"
      ],
      "metadata": {
        "colab": {
          "base_uri": "https://localhost:8080/"
        },
        "id": "VB7w_asqFKtt",
        "outputId": "2f4a46d3-5488-4684-9da9-a92004fa57bc"
      },
      "execution_count": 45,
      "outputs": [
        {
          "output_type": "execute_result",
          "data": {
            "text/plain": [
              "3"
            ]
          },
          "metadata": {},
          "execution_count": 45
        }
      ]
    },
    {
      "cell_type": "code",
      "source": [
        "#Write a code to find the index of the element \"cat\" in the tuple ('dog', 'cat', 'rabbit').\n",
        "c= (\"dog\", \"cat\",  \"rabbit\")\n",
        "c.index(\"cat\")"
      ],
      "metadata": {
        "colab": {
          "base_uri": "https://localhost:8080/"
        },
        "id": "4BcVaoGsFe7q",
        "outputId": "37becf9c-a8a8-4a27-9d48-81a7a9c386d3"
      },
      "execution_count": 46,
      "outputs": [
        {
          "output_type": "execute_result",
          "data": {
            "text/plain": [
              "1"
            ]
          },
          "metadata": {},
          "execution_count": 46
        }
      ]
    },
    {
      "cell_type": "code",
      "source": [
        "#Write a code to check if the element \"banana\" is in the tuple ('apple', 'orange', 'banana').\n",
        "fruits = (\"apple\", \"orange\", \"banana\")\n",
        "if \"banana\" in fruits:\n",
        "  print(\"Yes, banana is in tuple\")\n",
        "else:\n",
        "  print(\"No, banana is not in tuple\")"
      ],
      "metadata": {
        "colab": {
          "base_uri": "https://localhost:8080/"
        },
        "id": "sp75BMlaF60V",
        "outputId": "50efc6ba-375d-452c-d9a2-65429d4a7f49"
      },
      "execution_count": 26,
      "outputs": [
        {
          "output_type": "stream",
          "name": "stdout",
          "text": [
            "Yes, banana is in tuple\n"
          ]
        }
      ]
    },
    {
      "cell_type": "code",
      "source": [
        "#Write a code to create a set with the elements 1, 2, 3, 4, 5 and print it.\n",
        "a = {1, 2,  3,  4,  5}\n",
        "print(a)"
      ],
      "metadata": {
        "colab": {
          "base_uri": "https://localhost:8080/"
        },
        "id": "HoFXa-NTGTLP",
        "outputId": "2a5edb72-4e6c-4d31-b007-072f801e2f7f"
      },
      "execution_count": 47,
      "outputs": [
        {
          "output_type": "stream",
          "name": "stdout",
          "text": [
            "{1, 2, 3, 4, 5}\n"
          ]
        }
      ]
    },
    {
      "cell_type": "code",
      "source": [
        "#Write a code to add the element 6 to the set {1, 2, 3, 4}.\n",
        "c = {1, 2,  3,  4}\n",
        "c.add(6)\n",
        "print(c)"
      ],
      "metadata": {
        "colab": {
          "base_uri": "https://localhost:8080/"
        },
        "id": "hCOw2Vs8HJV9",
        "outputId": "be966ef0-d505-42b5-e5b6-30f658c96768"
      },
      "execution_count": 48,
      "outputs": [
        {
          "output_type": "stream",
          "name": "stdout",
          "text": [
            "{1, 2, 3, 4, 6}\n"
          ]
        }
      ]
    },
    {
      "cell_type": "code",
      "source": [],
      "metadata": {
        "id": "MOCM7VQZHfKU"
      },
      "execution_count": null,
      "outputs": []
    }
  ]
}